{
 "cells": [
  {
   "cell_type": "code",
   "execution_count": null,
   "metadata": {},
   "outputs": [],
   "source": [
    "#| hide\n",
    "#| default_exp scrape_live_stats"
   ]
  },
  {
   "cell_type": "markdown",
   "metadata": {},
   "source": [
    "# Scrape live stats\n",
    "\n",
    "> Live stats of a match."
   ]
  },
  {
   "cell_type": "code",
   "execution_count": null,
   "metadata": {},
   "outputs": [],
   "source": [
    "#| export\n",
    "\n",
    "import warnings\n",
    "warnings.filterwarnings('ignore')\n",
    "\n",
    "import json\n",
    "import logging\n",
    "import os\n",
    "import requests\n",
    "\n",
    "# NOTE: Had to install the package with the following command for the import to work.\n",
    "# python3 -m pip install -e '.[dev]'\n",
    "from isl_2024.utils import *"
   ]
  },
  {
   "cell_type": "code",
   "execution_count": null,
   "metadata": {},
   "outputs": [],
   "source": [
    "#| hide\n",
    "from nbdev.showdoc import *"
   ]
  },
  {
   "cell_type": "code",
   "execution_count": null,
   "metadata": {},
   "outputs": [],
   "source": [
    "#| export\n",
    "try:\n",
    "    # This will work when running as a script\n",
    "    script_dir = os.path.dirname(os.path.abspath(__file__))\n",
    "except NameError:\n",
    "    # This will work when running in a Jupyter notebook\n",
    "    script_dir = os.getcwd()\n",
    "\n",
    "parent_dir = os.path.abspath(os.path.join(script_dir, os.pardir))\n",
    "log_dir = os.path.join(parent_dir, 'logs')\n",
    "data_dir = os.path.join(parent_dir, 'data/live_stats')\n",
    "    \n",
    "if not os.path.exists(log_dir):\n",
    "    os.makedirs(log_dir)\n",
    "\n",
    "if not os.path.exists(data_dir):\n",
    "    os.makedirs(data_dir)\n",
    "\n",
    "logging.basicConfig(level=logging.INFO, format='%(asctime)s - %(levelname)s - %(message)s', filename=os.path.join(log_dir, 'scrape_live_stats.log'), filemode='a')"
   ]
  },
  {
   "cell_type": "code",
   "execution_count": null,
   "metadata": {},
   "outputs": [],
   "source": [
    "#| export\n",
    "def fetch_live_stats(match_id):\n",
    "    url = f'https://www.indiansuperleague.com/football/live/india_sl_stats/json/{match_id}.json'\n",
    "    headers = {\n",
    "        'accept': '*/*',\n",
    "        'referer': 'https://www.indiansuperleague.com/',\n",
    "        'user-agent': 'Mozilla/5.0 (Macintosh; Intel Mac OS X 10_15_7) AppleWebKit/537.36 (KHTML, like Gecko) Chrome/128.0.0.0 Safari/537.36'\n",
    "    }\n",
    "    response = requests.get(url, headers=headers)\n",
    "\n",
    "    if response.status_code == 200:\n",
    "        logging.info('API request successful. Content length: {}'.format(len(response.content)))\n",
    "        with open(os.path.join(data_dir, f'{match_id}.txt'), 'a') as f:\n",
    "            f.write(response.text + \"\\n\")\n",
    "    else:\n",
    "        logging.error('API request failed. Status code: {}'.format(response.status_code))"
   ]
  },
  {
   "cell_type": "code",
   "execution_count": null,
   "metadata": {},
   "outputs": [],
   "source": [
    "#| export\n",
    "\n",
    "# Fetch IDs of live matches using the matches summary.\n",
    "match_ids = get_live_matches()\n",
    "logging.info('Live matches: {} [{}]'.format(len(match_ids), ', '.join(match_ids)))\n",
    "\n",
    "for match_id in match_ids:\n",
    "    fetch_live_stats(match_id)"
   ]
  },
  {
   "cell_type": "code",
   "execution_count": null,
   "metadata": {},
   "outputs": [],
   "source": []
  },
  {
   "cell_type": "code",
   "execution_count": null,
   "metadata": {},
   "outputs": [],
   "source": [
    "#| hide\n",
    "import nbdev; nbdev.nbdev_export()"
   ]
  },
  {
   "cell_type": "code",
   "execution_count": null,
   "metadata": {},
   "outputs": [],
   "source": []
  }
 ],
 "metadata": {
  "kernelspec": {
   "display_name": "python3",
   "language": "python",
   "name": "python3"
  }
 },
 "nbformat": 4,
 "nbformat_minor": 4
}

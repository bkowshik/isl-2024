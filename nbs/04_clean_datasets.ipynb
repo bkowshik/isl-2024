{
 "cells": [
  {
   "cell_type": "code",
   "execution_count": null,
   "metadata": {},
   "outputs": [],
   "source": [
    "#| hide\n",
    "#| default_exp clean_datasets"
   ]
  },
  {
   "cell_type": "markdown",
   "metadata": {},
   "source": [
    "# Clean datasets\n",
    "\n",
    "> Clean raw datasets for the Shiny app."
   ]
  },
  {
   "cell_type": "code",
   "execution_count": null,
   "metadata": {},
   "outputs": [],
   "source": [
    "#| export\n",
    "\n",
    "import warnings\n",
    "warnings.filterwarnings('ignore')\n",
    "\n",
    "import json\n",
    "import logging\n",
    "import os\n",
    "import requests\n",
    "\n",
    "import pandas as pd\n",
    "\n",
    "# NOTE: Had to install the package with the following command for the import to work.\n",
    "# python3 -m pip install -e '.[dev]'\n",
    "from isl_2024.utils import *"
   ]
  },
  {
   "cell_type": "code",
   "execution_count": null,
   "metadata": {},
   "outputs": [],
   "source": [
    "#| hide\n",
    "from nbdev.showdoc import *"
   ]
  },
  {
   "cell_type": "code",
   "execution_count": null,
   "metadata": {},
   "outputs": [],
   "source": [
    "#| export\n",
    "try:\n",
    "    # This will work when running as a script\n",
    "    script_dir = os.path.dirname(os.path.abspath(__file__))\n",
    "except NameError:\n",
    "    # This will work when running in a Jupyter notebook\n",
    "    script_dir = os.getcwd()\n",
    "\n",
    "parent_dir = os.path.abspath(os.path.join(script_dir, os.pardir))\n",
    "log_dir = os.path.join(parent_dir, 'logs')\n",
    "data_dir = os.path.join(parent_dir, 'data')\n",
    "clean_data_dir = os.path.join(parent_dir, 'data/clean')\n",
    "\n",
    "if not os.path.exists(log_dir):\n",
    "    os.makedirs(log_dir)\n",
    "\n",
    "if not os.path.exists(data_dir):\n",
    "    os.makedirs(data_dir)\n",
    "\n",
    "if not os.path.exists(clean_data_dir):\n",
    "    os.makedirs(clean_data_dir)\n",
    "\n",
    "logging.basicConfig(level=logging.INFO, format='%(asctime)s - %(levelname)s - %(message)s', filename=os.path.join(log_dir, 'clean_datasets.log'), filemode='a')"
   ]
  },
  {
   "cell_type": "code",
   "execution_count": null,
   "metadata": {},
   "outputs": [],
   "source": []
  },
  {
   "cell_type": "markdown",
   "metadata": {},
   "source": [
    "# Matches"
   ]
  },
  {
   "cell_type": "code",
   "execution_count": null,
   "metadata": {},
   "outputs": [
    {
     "name": "stdout",
     "output_type": "stream",
     "text": [
      "(84, 6)\n"
     ]
    },
    {
     "data": {
      "text/html": [
       "<div>\n",
       "<style scoped>\n",
       "    .dataframe tbody tr th:only-of-type {\n",
       "        vertical-align: middle;\n",
       "    }\n",
       "\n",
       "    .dataframe tbody tr th {\n",
       "        vertical-align: top;\n",
       "    }\n",
       "\n",
       "    .dataframe thead th {\n",
       "        text-align: right;\n",
       "    }\n",
       "</style>\n",
       "<table border=\"1\" class=\"dataframe\">\n",
       "  <thead>\n",
       "    <tr style=\"text-align: right;\">\n",
       "      <th></th>\n",
       "      <th>match_id</th>\n",
       "      <th>start_at</th>\n",
       "      <th>end_at</th>\n",
       "      <th>home_team</th>\n",
       "      <th>away_team</th>\n",
       "      <th>score</th>\n",
       "    </tr>\n",
       "  </thead>\n",
       "  <tbody>\n",
       "    <tr>\n",
       "      <th>0</th>\n",
       "      <td>1</td>\n",
       "      <td>2024-09-13 19:30:00+05:30</td>\n",
       "      <td>2024-09-13 19:30:00+05:30</td>\n",
       "      <td>Mohun Bagan Super Giant</td>\n",
       "      <td>Mumbai City FC</td>\n",
       "      <td>2 - 2</td>\n",
       "    </tr>\n",
       "    <tr>\n",
       "      <th>1</th>\n",
       "      <td>2</td>\n",
       "      <td>2024-09-14 17:00:00+05:30</td>\n",
       "      <td>2024-09-14 17:00:00+05:30</td>\n",
       "      <td>Odisha FC</td>\n",
       "      <td>Chennaiyin FC</td>\n",
       "      <td>2 - 3</td>\n",
       "    </tr>\n",
       "    <tr>\n",
       "      <th>2</th>\n",
       "      <td>3</td>\n",
       "      <td>2024-09-14 19:30:00+05:30</td>\n",
       "      <td>2024-09-14 19:30:00+05:30</td>\n",
       "      <td>Bengaluru FC</td>\n",
       "      <td>East Bengal FC</td>\n",
       "      <td>1 - 0</td>\n",
       "    </tr>\n",
       "    <tr>\n",
       "      <th>3</th>\n",
       "      <td>4</td>\n",
       "      <td>2024-09-15 19:30:00+05:30</td>\n",
       "      <td>2024-09-15 19:30:00+05:30</td>\n",
       "      <td>Kerala Blasters FC</td>\n",
       "      <td>Punjab FC</td>\n",
       "      <td></td>\n",
       "    </tr>\n",
       "    <tr>\n",
       "      <th>4</th>\n",
       "      <td>5</td>\n",
       "      <td>2024-09-16 19:30:00+05:30</td>\n",
       "      <td>2024-09-16 19:30:00+05:30</td>\n",
       "      <td>Mohammedan SC</td>\n",
       "      <td>NorthEast United FC</td>\n",
       "      <td></td>\n",
       "    </tr>\n",
       "  </tbody>\n",
       "</table>\n",
       "</div>"
      ],
      "text/plain": [
       "   match_id                  start_at                    end_at  \\\n",
       "0         1 2024-09-13 19:30:00+05:30 2024-09-13 19:30:00+05:30   \n",
       "1         2 2024-09-14 17:00:00+05:30 2024-09-14 17:00:00+05:30   \n",
       "2         3 2024-09-14 19:30:00+05:30 2024-09-14 19:30:00+05:30   \n",
       "3         4 2024-09-15 19:30:00+05:30 2024-09-15 19:30:00+05:30   \n",
       "4         5 2024-09-16 19:30:00+05:30 2024-09-16 19:30:00+05:30   \n",
       "\n",
       "                 home_team            away_team  score  \n",
       "0  Mohun Bagan Super Giant       Mumbai City FC  2 - 2  \n",
       "1                Odisha FC        Chennaiyin FC  2 - 3  \n",
       "2             Bengaluru FC       East Bengal FC  1 - 0  \n",
       "3       Kerala Blasters FC            Punjab FC         \n",
       "4            Mohammedan SC  NorthEast United FC         "
      ]
     },
     "execution_count": null,
     "metadata": {},
     "output_type": "execute_result"
    }
   ],
   "source": [
    "#| export\n",
    "\n",
    "with open(os.path.join(data_dir, 'matches.txt'), encoding='utf-8') as f:\n",
    "    matches = json.loads(f.readlines()[-1])['matches']\n",
    "\n",
    "df = []\n",
    "for match in matches:\n",
    "    df.append({\n",
    "        'start_at': match['start_date'],\n",
    "        'end_at': match['end_date'],\n",
    "        'home_team': match['participants'][0]['name'],\n",
    "        'away_team': match['participants'][1]['name'],\n",
    "        'score': match['winning_margin'],\n",
    "    })\n",
    "df = pd.DataFrame(df)\n",
    "df['start_at'] = pd.to_datetime(df['start_at'])\n",
    "df['end_at'] = pd.to_datetime(df['start_at'])\n",
    "df['match_id'] = df.index + 1\n",
    "df = df[['match_id', 'start_at', 'end_at', 'home_team', 'away_team', 'score']]\n",
    "\n",
    "df.to_csv(os.path.join(clean_data_dir, 'matches.csv'), index=False)\n",
    "\n",
    "print(df.shape)\n",
    "df.head()"
   ]
  },
  {
   "cell_type": "code",
   "execution_count": null,
   "metadata": {},
   "outputs": [],
   "source": []
  }
 ],
 "metadata": {
  "kernelspec": {
   "display_name": "python3",
   "language": "python",
   "name": "python3"
  }
 },
 "nbformat": 4,
 "nbformat_minor": 2
}

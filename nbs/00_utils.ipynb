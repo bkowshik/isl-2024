{
 "cells": [
  {
   "cell_type": "code",
   "execution_count": null,
   "metadata": {},
   "outputs": [],
   "source": [
    "#| hide\n",
    "#| default_exp utils"
   ]
  },
  {
   "cell_type": "markdown",
   "metadata": {},
   "source": [
    "# Utils\n",
    "\n",
    "Utility functions to be used in other scripts."
   ]
  },
  {
   "cell_type": "code",
   "execution_count": null,
   "metadata": {},
   "outputs": [],
   "source": [
    "#| export\n",
    "\n",
    "import warnings\n",
    "warnings.filterwarnings('ignore')\n",
    "\n",
    "import json\n",
    "import os\n",
    "import requests\n",
    "import datetime\n",
    "import pytz\n",
    "\n",
    "import pandas as pd"
   ]
  },
  {
   "cell_type": "code",
   "execution_count": null,
   "metadata": {},
   "outputs": [],
   "source": [
    "#| hide\n",
    "from nbdev.showdoc import *"
   ]
  },
  {
   "cell_type": "code",
   "execution_count": null,
   "metadata": {},
   "outputs": [],
   "source": [
    "#| export\n",
    "try:\n",
    "    # This will work when running as a script\n",
    "    script_dir = os.path.dirname(os.path.abspath(__file__))\n",
    "except NameError:\n",
    "    # This will work when running in a Jupyter notebook\n",
    "    script_dir = os.getcwd()\n",
    "\n",
    "parent_dir = os.path.abspath(os.path.join(script_dir, os.pardir))\n",
    "log_dir = os.path.join(parent_dir, 'logs')\n",
    "data_dir = os.path.join(parent_dir, 'data')\n",
    "\n",
    "if not os.path.exists(log_dir):\n",
    "    os.makedirs(log_dir)\n",
    "\n",
    "if not os.path.exists(data_dir):\n",
    "    os.makedirs(data_dir)"
   ]
  },
  {
   "cell_type": "code",
   "execution_count": null,
   "metadata": {},
   "outputs": [],
   "source": []
  },
  {
   "cell_type": "code",
   "execution_count": null,
   "metadata": {},
   "outputs": [],
   "source": [
    "#| export\n",
    "def get_live_matches(now = datetime.datetime.now(pytz.timezone('Asia/Kolkata'))):\n",
    "    with open(os.path.join(data_dir, 'matches.txt'), 'r') as f:\n",
    "        logs = f.readlines()\n",
    "\n",
    "    latest = logs[-1]\n",
    "    matches = json.loads(latest)['matches']\n",
    "\n",
    "    matches_df = []\n",
    "    for match in matches:\n",
    "        matches_df.append({\n",
    "            'start_at': match['start_date'],\n",
    "            'end_at': match['end_date'],\n",
    "            'game_id': match['game_id'],\n",
    "        })\n",
    "\n",
    "    matches_df = pd.DataFrame(matches_df)\n",
    "    matches_df['start_at'] = pd.to_datetime(matches_df['start_at'])\n",
    "    matches_df['end_at'] = pd.to_datetime(matches_df['end_at'])\n",
    "\n",
    "    live_matches = matches_df[\n",
    "        (now >= matches_df[\"start_at\"] - datetime.timedelta(minutes = 15)) &\n",
    "        (now <= matches_df[\"end_at\"] + datetime.timedelta(minutes = 30))\n",
    "    ]\n",
    "    game_ids = list(live_matches['game_id'].values)\n",
    "    return(game_ids)"
   ]
  },
  {
   "cell_type": "code",
   "execution_count": null,
   "metadata": {},
   "outputs": [
    {
     "data": {
      "text/plain": [
       "['66797']"
      ]
     },
     "execution_count": null,
     "metadata": {},
     "output_type": "execute_result"
    }
   ],
   "source": [
    "#| hide\n",
    "get_live_matches()"
   ]
  },
  {
   "cell_type": "code",
   "execution_count": null,
   "metadata": {},
   "outputs": [],
   "source": []
  }
 ],
 "metadata": {
  "kernelspec": {
   "display_name": "python3",
   "language": "python",
   "name": "python3"
  }
 },
 "nbformat": 4,
 "nbformat_minor": 2
}
